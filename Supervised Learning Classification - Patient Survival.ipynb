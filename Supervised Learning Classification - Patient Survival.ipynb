{
 "cells": [
  {
   "cell_type": "markdown",
   "metadata": {},
   "source": [
    "A non-profit healt organization has collected data baout patients in a diabetic speciality hospital, recently has turned into a covid-cure center. The organization has to see if there is any pattern to classify the patiets who has `survived` and `passed away`. Given below is the detail of the dataset.\n",
    "\n",
    "**Detail of the dataset**\n",
    "\n",
    "`Patient I.D.` --> Index of patient enrolment number\n",
    "\n",
    "`Age`  --> Age of the patient\n",
    "\n",
    "`Sex` --> Gender of the patient\n",
    "\n",
    "`cp` --> Chest Pain type chest pain type\n",
    "\n",
    "`trtbps` --> resting blood pressure (in mm Hg)\n",
    "\n",
    "`chol` --> cholestoral in mg/dl fetched via BMI sensor\n",
    "\n",
    "`fbs` --> fasting blood sugar , which has been categorised into three group based on a different magnitude\n",
    "\n",
    "`restecg` --> resting electrocardiographic results\n",
    "\n",
    "`thalachh` --> maximum heart rate achieved\n",
    "\n",
    "`Addiction` --> Addiction of the patient\n",
    "\n",
    "`keratin_type` --> Keratin type of the patient\n",
    "\n",
    "`Diabetes_type` --> type of diabetes of the patient     \n",
    "\n",
    "`Hemoglobin_level` --> level of hemoglobin of the patient \n",
    "\n",
    "`blood_group`  --> Blood group of the patient\n",
    "\n",
    "`Immunity_level` --> Immunity level of the patient,which has been categorised into different group\n",
    "\n",
    "`Affected_portion` --> Portion of organ effect by virus\n",
    "\n",
    "`Breath_ratio` -->  state air to the time of inhalation ratio.\n",
    "\n",
    "`Survive` --> whether a patient has overcome or passed away"
   ]
  },
  {
   "cell_type": "markdown",
   "metadata": {
    "_cell_guid": "bfca2f2a-d078-4f0a-ad8a-3d3571a08f76",
    "_execution_state": "idle",
    "_uuid": "e5e4b5ee88062058ceff62de7993eac563c1582b",
    "id": "hDa-ztgd8k4C"
   },
   "source": [
    "First, we need to load all of our libraries we will use for this project."
   ]
  },
  {
   "cell_type": "code",
   "execution_count": 1,
   "metadata": {},
   "outputs": [],
   "source": [
    "import numpy as np\n",
    "import pandas as pd\n",
    "import matplotlib.pyplot as plt\n",
    "import seaborn as sns"
   ]
  },
  {
   "cell_type": "code",
   "execution_count": 2,
   "metadata": {},
   "outputs": [
    {
     "data": {
      "text/plain": [
       "(7000, 18)"
      ]
     },
     "execution_count": 2,
     "metadata": {},
     "output_type": "execute_result"
    }
   ],
   "source": [
    "df = pd.read_csv('data_set.csv')\n",
    "\n",
    "df.shape\n",
    "#There are 7000 rows and 18 columns in this dataset"
   ]
  },
  {
   "cell_type": "code",
   "execution_count": 3,
   "metadata": {},
   "outputs": [
    {
     "data": {
      "text/html": [
       "<div>\n",
       "<style scoped>\n",
       "    .dataframe tbody tr th:only-of-type {\n",
       "        vertical-align: middle;\n",
       "    }\n",
       "\n",
       "    .dataframe tbody tr th {\n",
       "        vertical-align: top;\n",
       "    }\n",
       "\n",
       "    .dataframe thead th {\n",
       "        text-align: right;\n",
       "    }\n",
       "</style>\n",
       "<table border=\"1\" class=\"dataframe\">\n",
       "  <thead>\n",
       "    <tr style=\"text-align: right;\">\n",
       "      <th></th>\n",
       "      <th>Patient I.D.</th>\n",
       "      <th>Age</th>\n",
       "      <th>Sex</th>\n",
       "      <th>cp</th>\n",
       "      <th>trtbps</th>\n",
       "      <th>chol</th>\n",
       "      <th>fbs</th>\n",
       "      <th>restecg</th>\n",
       "      <th>thalachh</th>\n",
       "      <th>Addiction</th>\n",
       "      <th>keratin_type</th>\n",
       "      <th>Diabetes_type</th>\n",
       "      <th>Hemoglobin_level</th>\n",
       "      <th>blood_group</th>\n",
       "      <th>Immunity_level</th>\n",
       "      <th>Affected_portion</th>\n",
       "      <th>Breath_ratio</th>\n",
       "      <th>Survive</th>\n",
       "    </tr>\n",
       "  </thead>\n",
       "  <tbody>\n",
       "    <tr>\n",
       "      <th>0</th>\n",
       "      <td>1</td>\n",
       "      <td>29.0</td>\n",
       "      <td>Male</td>\n",
       "      <td>1</td>\n",
       "      <td>6.613849</td>\n",
       "      <td>240.859519</td>\n",
       "      <td>1</td>\n",
       "      <td>1</td>\n",
       "      <td>113.0895308</td>\n",
       "      <td>Nicotine - type A</td>\n",
       "      <td>3</td>\n",
       "      <td>type 2</td>\n",
       "      <td>7</td>\n",
       "      <td>O-</td>\n",
       "      <td>1</td>\n",
       "      <td>41.576901</td>\n",
       "      <td>21.55</td>\n",
       "      <td>Survived</td>\n",
       "    </tr>\n",
       "    <tr>\n",
       "      <th>1</th>\n",
       "      <td>2</td>\n",
       "      <td>30.0</td>\n",
       "      <td>Female</td>\n",
       "      <td>1</td>\n",
       "      <td>8.789486</td>\n",
       "      <td>253.220968</td>\n",
       "      <td>3</td>\n",
       "      <td>2</td>\n",
       "      <td>113.3518612</td>\n",
       "      <td>Nicotine - type A</td>\n",
       "      <td>2</td>\n",
       "      <td>type 1</td>\n",
       "      <td>6</td>\n",
       "      <td>B-</td>\n",
       "      <td>4</td>\n",
       "      <td>43.234092</td>\n",
       "      <td>24.23</td>\n",
       "      <td>Survived</td>\n",
       "    </tr>\n",
       "    <tr>\n",
       "      <th>2</th>\n",
       "      <td>3</td>\n",
       "      <td>29.0</td>\n",
       "      <td>Male</td>\n",
       "      <td>2</td>\n",
       "      <td>10.376325</td>\n",
       "      <td>237.148027</td>\n",
       "      <td>2</td>\n",
       "      <td>1</td>\n",
       "      <td>106.9501548</td>\n",
       "      <td>Drug-type B</td>\n",
       "      <td>2</td>\n",
       "      <td>type 3</td>\n",
       "      <td>8</td>\n",
       "      <td>B-</td>\n",
       "      <td>4</td>\n",
       "      <td>46.758422</td>\n",
       "      <td>44.97</td>\n",
       "      <td>Survived</td>\n",
       "    </tr>\n",
       "    <tr>\n",
       "      <th>3</th>\n",
       "      <td>4</td>\n",
       "      <td>30.0</td>\n",
       "      <td>Male</td>\n",
       "      <td>3</td>\n",
       "      <td>18.336148</td>\n",
       "      <td>245.179914</td>\n",
       "      <td>3</td>\n",
       "      <td>2</td>\n",
       "      <td>100.4835624</td>\n",
       "      <td>Alcohol</td>\n",
       "      <td>2</td>\n",
       "      <td>type 2</td>\n",
       "      <td>13</td>\n",
       "      <td>O+</td>\n",
       "      <td>2</td>\n",
       "      <td>47.254223</td>\n",
       "      <td>47.24</td>\n",
       "      <td>Survived</td>\n",
       "    </tr>\n",
       "    <tr>\n",
       "      <th>4</th>\n",
       "      <td>5</td>\n",
       "      <td>29.0</td>\n",
       "      <td>Female</td>\n",
       "      <td>1</td>\n",
       "      <td>17.285610</td>\n",
       "      <td>233.539891</td>\n",
       "      <td>2</td>\n",
       "      <td>2</td>\n",
       "      <td>122.7902658</td>\n",
       "      <td>Nicotine - type A</td>\n",
       "      <td>2</td>\n",
       "      <td>type 1</td>\n",
       "      <td>6</td>\n",
       "      <td>AB+</td>\n",
       "      <td>2</td>\n",
       "      <td>27.046348</td>\n",
       "      <td>28.74</td>\n",
       "      <td>Survived</td>\n",
       "    </tr>\n",
       "  </tbody>\n",
       "</table>\n",
       "</div>"
      ],
      "text/plain": [
       "   Patient I.D.   Age     Sex  cp     trtbps        chol  fbs  restecg  \\\n",
       "0             1  29.0    Male   1   6.613849  240.859519    1        1   \n",
       "1             2  30.0  Female   1   8.789486  253.220968    3        2   \n",
       "2             3  29.0    Male   2  10.376325  237.148027    2        1   \n",
       "3             4  30.0    Male   3  18.336148  245.179914    3        2   \n",
       "4             5  29.0  Female   1  17.285610  233.539891    2        2   \n",
       "\n",
       "      thalachh          Addiction  keratin_type Diabetes_type  \\\n",
       "0  113.0895308  Nicotine - type A             3        type 2   \n",
       "1  113.3518612  Nicotine - type A             2        type 1   \n",
       "2  106.9501548        Drug-type B             2        type 3   \n",
       "3  100.4835624            Alcohol             2        type 2   \n",
       "4  122.7902658  Nicotine - type A             2        type 1   \n",
       "\n",
       "   Hemoglobin_level blood_group  Immunity_level  Affected_portion  \\\n",
       "0                 7          O-               1         41.576901   \n",
       "1                 6          B-               4         43.234092   \n",
       "2                 8          B-               4         46.758422   \n",
       "3                13          O+               2         47.254223   \n",
       "4                 6         AB+               2         27.046348   \n",
       "\n",
       "   Breath_ratio   Survive  \n",
       "0         21.55  Survived  \n",
       "1         24.23  Survived  \n",
       "2         44.97  Survived  \n",
       "3         47.24  Survived  \n",
       "4         28.74  Survived  "
      ]
     },
     "execution_count": 3,
     "metadata": {},
     "output_type": "execute_result"
    }
   ],
   "source": [
    "df.head()"
   ]
  },
  {
   "cell_type": "code",
   "execution_count": 4,
   "metadata": {},
   "outputs": [
    {
     "data": {
      "text/plain": [
       "Patient I.D.          int64\n",
       "Age                 float64\n",
       "Sex                  object\n",
       "cp                    int64\n",
       "trtbps              float64\n",
       "chol                float64\n",
       "fbs                   int64\n",
       "restecg               int64\n",
       "thalachh             object\n",
       "Addiction            object\n",
       "keratin_type          int64\n",
       "Diabetes_type        object\n",
       "Hemoglobin_level      int64\n",
       "blood_group          object\n",
       "Immunity_level        int64\n",
       "Affected_portion    float64\n",
       "Breath_ratio        float64\n",
       "Survive              object\n",
       "dtype: object"
      ]
     },
     "execution_count": 4,
     "metadata": {},
     "output_type": "execute_result"
    }
   ],
   "source": [
    "df.dtypes\n",
    "#Below are the datatypes belonging to each columns"
   ]
  },
  {
   "cell_type": "code",
   "execution_count": 5,
   "metadata": {},
   "outputs": [],
   "source": [
    "\n",
    "#The columns thalachh was considered as object datatype, however it consits of float values\n",
    "\n",
    "# We could also notice a ? in the values of this column which we shall convert as a null value\n",
    "\n",
    "df['thalachh'] = df['thalachh'].replace('?',np.nan)\n",
    "\n",
    "df['thalachh'] = df['thalachh'].astype('float')\n",
    "\n"
   ]
  },
  {
   "cell_type": "code",
   "execution_count": 6,
   "metadata": {},
   "outputs": [
    {
     "data": {
      "text/plain": [
       "Index(['Sex', 'Addiction', 'Diabetes_type', 'blood_group', 'Survive'], dtype='object')"
      ]
     },
     "execution_count": 6,
     "metadata": {},
     "output_type": "execute_result"
    }
   ],
   "source": [
    "df_cat = df.select_dtypes('O')\n",
    "\n",
    "df_cat.columns\n",
    "#Categorical columns"
   ]
  },
  {
   "cell_type": "code",
   "execution_count": 7,
   "metadata": {},
   "outputs": [
    {
     "data": {
      "text/plain": [
       "Index(['Patient I.D.', 'Age', 'cp', 'trtbps', 'chol', 'fbs', 'restecg',\n",
       "       'thalachh', 'keratin_type', 'Hemoglobin_level', 'Immunity_level',\n",
       "       'Affected_portion', 'Breath_ratio'],\n",
       "      dtype='object')"
      ]
     },
     "execution_count": 7,
     "metadata": {},
     "output_type": "execute_result"
    }
   ],
   "source": [
    "df_num = df.select_dtypes(np.number)\n",
    "df_num.columns\n",
    "#Numerical columns"
   ]
  },
  {
   "cell_type": "code",
   "execution_count": 8,
   "metadata": {},
   "outputs": [
    {
     "data": {
      "text/html": [
       "<div>\n",
       "<style scoped>\n",
       "    .dataframe tbody tr th:only-of-type {\n",
       "        vertical-align: middle;\n",
       "    }\n",
       "\n",
       "    .dataframe tbody tr th {\n",
       "        vertical-align: top;\n",
       "    }\n",
       "\n",
       "    .dataframe thead th {\n",
       "        text-align: right;\n",
       "    }\n",
       "</style>\n",
       "<table border=\"1\" class=\"dataframe\">\n",
       "  <thead>\n",
       "    <tr style=\"text-align: right;\">\n",
       "      <th></th>\n",
       "      <th>Patient I.D.</th>\n",
       "      <th>Age</th>\n",
       "      <th>cp</th>\n",
       "      <th>trtbps</th>\n",
       "      <th>chol</th>\n",
       "      <th>fbs</th>\n",
       "      <th>restecg</th>\n",
       "      <th>thalachh</th>\n",
       "      <th>keratin_type</th>\n",
       "      <th>Hemoglobin_level</th>\n",
       "      <th>Immunity_level</th>\n",
       "      <th>Affected_portion</th>\n",
       "      <th>Breath_ratio</th>\n",
       "    </tr>\n",
       "  </thead>\n",
       "  <tbody>\n",
       "    <tr>\n",
       "      <th>count</th>\n",
       "      <td>7000.000000</td>\n",
       "      <td>6401.000000</td>\n",
       "      <td>7000.000000</td>\n",
       "      <td>7000.000000</td>\n",
       "      <td>6376.000000</td>\n",
       "      <td>7000.000000</td>\n",
       "      <td>7000.000000</td>\n",
       "      <td>6924.000000</td>\n",
       "      <td>7000.000000</td>\n",
       "      <td>7000.000000</td>\n",
       "      <td>7000.000000</td>\n",
       "      <td>7000.000000</td>\n",
       "      <td>6593.000000</td>\n",
       "    </tr>\n",
       "    <tr>\n",
       "      <th>mean</th>\n",
       "      <td>3500.500000</td>\n",
       "      <td>60.390564</td>\n",
       "      <td>1.654286</td>\n",
       "      <td>14.096497</td>\n",
       "      <td>248.497664</td>\n",
       "      <td>1.676714</td>\n",
       "      <td>0.914429</td>\n",
       "      <td>111.994594</td>\n",
       "      <td>1.555143</td>\n",
       "      <td>9.518857</td>\n",
       "      <td>2.517000</td>\n",
       "      <td>40.878998</td>\n",
       "      <td>40.465292</td>\n",
       "    </tr>\n",
       "    <tr>\n",
       "      <th>std</th>\n",
       "      <td>2020.870275</td>\n",
       "      <td>18.420775</td>\n",
       "      <td>1.061300</td>\n",
       "      <td>5.131444</td>\n",
       "      <td>10.323672</td>\n",
       "      <td>1.159972</td>\n",
       "      <td>0.709753</td>\n",
       "      <td>7.006035</td>\n",
       "      <td>0.667956</td>\n",
       "      <td>2.285818</td>\n",
       "      <td>1.116834</td>\n",
       "      <td>11.183186</td>\n",
       "      <td>11.633303</td>\n",
       "    </tr>\n",
       "    <tr>\n",
       "      <th>min</th>\n",
       "      <td>1.000000</td>\n",
       "      <td>29.000000</td>\n",
       "      <td>0.000000</td>\n",
       "      <td>1.241648</td>\n",
       "      <td>212.122186</td>\n",
       "      <td>0.000000</td>\n",
       "      <td>0.000000</td>\n",
       "      <td>87.648451</td>\n",
       "      <td>1.000000</td>\n",
       "      <td>6.000000</td>\n",
       "      <td>1.000000</td>\n",
       "      <td>1.242888</td>\n",
       "      <td>3.010000</td>\n",
       "    </tr>\n",
       "    <tr>\n",
       "      <th>25%</th>\n",
       "      <td>1750.750000</td>\n",
       "      <td>45.000000</td>\n",
       "      <td>1.000000</td>\n",
       "      <td>9.422638</td>\n",
       "      <td>240.673116</td>\n",
       "      <td>1.000000</td>\n",
       "      <td>0.000000</td>\n",
       "      <td>107.245448</td>\n",
       "      <td>1.000000</td>\n",
       "      <td>8.000000</td>\n",
       "      <td>2.000000</td>\n",
       "      <td>33.232875</td>\n",
       "      <td>32.410000</td>\n",
       "    </tr>\n",
       "    <tr>\n",
       "      <th>50%</th>\n",
       "      <td>3500.500000</td>\n",
       "      <td>64.000000</td>\n",
       "      <td>2.000000</td>\n",
       "      <td>14.669709</td>\n",
       "      <td>249.221050</td>\n",
       "      <td>2.000000</td>\n",
       "      <td>1.000000</td>\n",
       "      <td>112.129117</td>\n",
       "      <td>1.000000</td>\n",
       "      <td>10.000000</td>\n",
       "      <td>3.000000</td>\n",
       "      <td>40.948939</td>\n",
       "      <td>39.890000</td>\n",
       "    </tr>\n",
       "    <tr>\n",
       "      <th>75%</th>\n",
       "      <td>5250.250000</td>\n",
       "      <td>77.000000</td>\n",
       "      <td>3.000000</td>\n",
       "      <td>18.366243</td>\n",
       "      <td>255.371556</td>\n",
       "      <td>3.000000</td>\n",
       "      <td>1.000000</td>\n",
       "      <td>116.770858</td>\n",
       "      <td>2.000000</td>\n",
       "      <td>12.000000</td>\n",
       "      <td>4.000000</td>\n",
       "      <td>48.629448</td>\n",
       "      <td>48.750000</td>\n",
       "    </tr>\n",
       "    <tr>\n",
       "      <th>max</th>\n",
       "      <td>7000.000000</td>\n",
       "      <td>91.000000</td>\n",
       "      <td>3.000000</td>\n",
       "      <td>27.644734</td>\n",
       "      <td>283.852277</td>\n",
       "      <td>3.000000</td>\n",
       "      <td>2.000000</td>\n",
       "      <td>139.690293</td>\n",
       "      <td>3.000000</td>\n",
       "      <td>13.000000</td>\n",
       "      <td>4.000000</td>\n",
       "      <td>84.045723</td>\n",
       "      <td>86.030000</td>\n",
       "    </tr>\n",
       "  </tbody>\n",
       "</table>\n",
       "</div>"
      ],
      "text/plain": [
       "       Patient I.D.          Age           cp       trtbps         chol  \\\n",
       "count   7000.000000  6401.000000  7000.000000  7000.000000  6376.000000   \n",
       "mean    3500.500000    60.390564     1.654286    14.096497   248.497664   \n",
       "std     2020.870275    18.420775     1.061300     5.131444    10.323672   \n",
       "min        1.000000    29.000000     0.000000     1.241648   212.122186   \n",
       "25%     1750.750000    45.000000     1.000000     9.422638   240.673116   \n",
       "50%     3500.500000    64.000000     2.000000    14.669709   249.221050   \n",
       "75%     5250.250000    77.000000     3.000000    18.366243   255.371556   \n",
       "max     7000.000000    91.000000     3.000000    27.644734   283.852277   \n",
       "\n",
       "               fbs      restecg     thalachh  keratin_type  Hemoglobin_level  \\\n",
       "count  7000.000000  7000.000000  6924.000000   7000.000000       7000.000000   \n",
       "mean      1.676714     0.914429   111.994594      1.555143          9.518857   \n",
       "std       1.159972     0.709753     7.006035      0.667956          2.285818   \n",
       "min       0.000000     0.000000    87.648451      1.000000          6.000000   \n",
       "25%       1.000000     0.000000   107.245448      1.000000          8.000000   \n",
       "50%       2.000000     1.000000   112.129117      1.000000         10.000000   \n",
       "75%       3.000000     1.000000   116.770858      2.000000         12.000000   \n",
       "max       3.000000     2.000000   139.690293      3.000000         13.000000   \n",
       "\n",
       "       Immunity_level  Affected_portion  Breath_ratio  \n",
       "count     7000.000000       7000.000000   6593.000000  \n",
       "mean         2.517000         40.878998     40.465292  \n",
       "std          1.116834         11.183186     11.633303  \n",
       "min          1.000000          1.242888      3.010000  \n",
       "25%          2.000000         33.232875     32.410000  \n",
       "50%          3.000000         40.948939     39.890000  \n",
       "75%          4.000000         48.629448     48.750000  \n",
       "max          4.000000         84.045723     86.030000  "
      ]
     },
     "execution_count": 8,
     "metadata": {},
     "output_type": "execute_result"
    }
   ],
   "source": [
    "df.describe()\n",
    "\n",
    "#Scaling is needed here which will be done in the later part"
   ]
  },
  {
   "cell_type": "code",
   "execution_count": 9,
   "metadata": {},
   "outputs": [
    {
     "data": {
      "text/html": [
       "<div>\n",
       "<style scoped>\n",
       "    .dataframe tbody tr th:only-of-type {\n",
       "        vertical-align: middle;\n",
       "    }\n",
       "\n",
       "    .dataframe tbody tr th {\n",
       "        vertical-align: top;\n",
       "    }\n",
       "\n",
       "    .dataframe thead th {\n",
       "        text-align: right;\n",
       "    }\n",
       "</style>\n",
       "<table border=\"1\" class=\"dataframe\">\n",
       "  <thead>\n",
       "    <tr style=\"text-align: right;\">\n",
       "      <th></th>\n",
       "      <th>Sex</th>\n",
       "      <th>Addiction</th>\n",
       "      <th>Diabetes_type</th>\n",
       "      <th>blood_group</th>\n",
       "      <th>Survive</th>\n",
       "    </tr>\n",
       "  </thead>\n",
       "  <tbody>\n",
       "    <tr>\n",
       "      <th>count</th>\n",
       "      <td>7000</td>\n",
       "      <td>7000</td>\n",
       "      <td>7000</td>\n",
       "      <td>7000</td>\n",
       "      <td>7000</td>\n",
       "    </tr>\n",
       "    <tr>\n",
       "      <th>unique</th>\n",
       "      <td>2</td>\n",
       "      <td>7</td>\n",
       "      <td>3</td>\n",
       "      <td>8</td>\n",
       "      <td>2</td>\n",
       "    </tr>\n",
       "    <tr>\n",
       "      <th>top</th>\n",
       "      <td>Male</td>\n",
       "      <td>Nicotine - type A</td>\n",
       "      <td>type 1</td>\n",
       "      <td>O+</td>\n",
       "      <td>Survived</td>\n",
       "    </tr>\n",
       "    <tr>\n",
       "      <th>freq</th>\n",
       "      <td>4889</td>\n",
       "      <td>1468</td>\n",
       "      <td>3670</td>\n",
       "      <td>2474</td>\n",
       "      <td>5915</td>\n",
       "    </tr>\n",
       "  </tbody>\n",
       "</table>\n",
       "</div>"
      ],
      "text/plain": [
       "         Sex          Addiction Diabetes_type blood_group   Survive\n",
       "count   7000               7000          7000        7000      7000\n",
       "unique     2                  7             3           8         2\n",
       "top     Male  Nicotine - type A        type 1          O+  Survived\n",
       "freq    4889               1468          3670        2474      5915"
      ]
     },
     "execution_count": 9,
     "metadata": {},
     "output_type": "execute_result"
    }
   ],
   "source": [
    "df_cat.describe()"
   ]
  },
  {
   "cell_type": "code",
   "execution_count": 59,
   "metadata": {},
   "outputs": [
    {
     "data": {
      "text/plain": [
       "Male      69.842857\n",
       "Female    30.157143\n",
       "Name: Sex, dtype: float64"
      ]
     },
     "execution_count": 59,
     "metadata": {},
     "output_type": "execute_result"
    }
   ],
   "source": [
    "df_cat['Sex'].value_counts()/len(df)*100"
   ]
  },
  {
   "cell_type": "code",
   "execution_count": 60,
   "metadata": {},
   "outputs": [
    {
     "data": {
      "text/plain": [
       "Nicotine - type A    20.971429\n",
       "others               14.614286\n",
       "Drug-type A          14.242857\n",
       "Drug-type C          14.242857\n",
       "Alcohol              14.228571\n",
       "Drug-type B          14.128571\n",
       "Nicotine - type B     7.571429\n",
       "Name: Addiction, dtype: float64"
      ]
     },
     "execution_count": 60,
     "metadata": {},
     "output_type": "execute_result"
    }
   ],
   "source": [
    "df_cat['Addiction'].value_counts()/len(df)*100"
   ]
  },
  {
   "cell_type": "code",
   "execution_count": 61,
   "metadata": {},
   "outputs": [
    {
     "data": {
      "text/plain": [
       "type 1    52.428571\n",
       "type 2    36.242857\n",
       "type 3    11.328571\n",
       "Name: Diabetes_type, dtype: float64"
      ]
     },
     "execution_count": 61,
     "metadata": {},
     "output_type": "execute_result"
    }
   ],
   "source": [
    "df_cat['Diabetes_type'].value_counts()/len(df)*100\n"
   ]
  },
  {
   "cell_type": "code",
   "execution_count": 62,
   "metadata": {},
   "outputs": [
    {
     "data": {
      "text/plain": [
       "O+     35.342857\n",
       "B+     19.914286\n",
       "O-     14.314286\n",
       "A+     10.571429\n",
       "AB+     8.371429\n",
       "B-      7.614286\n",
       "A-      2.814286\n",
       "AB-     1.057143\n",
       "Name: blood_group, dtype: float64"
      ]
     },
     "execution_count": 62,
     "metadata": {},
     "output_type": "execute_result"
    }
   ],
   "source": [
    "df_cat['blood_group'].value_counts()/len(df)*100"
   ]
  },
  {
   "cell_type": "code",
   "execution_count": 63,
   "metadata": {},
   "outputs": [
    {
     "data": {
      "text/plain": [
       "Survived       84.5\n",
       "Passed away    15.5\n",
       "Name: Survive, dtype: float64"
      ]
     },
     "execution_count": 63,
     "metadata": {},
     "output_type": "execute_result"
    }
   ],
   "source": [
    "df_cat['Survive'].value_counts()/len(df)*100"
   ]
  },
  {
   "cell_type": "code",
   "execution_count": 10,
   "metadata": {},
   "outputs": [
    {
     "data": {
      "text/plain": [
       "Patient I.D.          0\n",
       "Age                 599\n",
       "Sex                   0\n",
       "cp                    0\n",
       "trtbps                0\n",
       "chol                624\n",
       "fbs                   0\n",
       "restecg               0\n",
       "thalachh             76\n",
       "Addiction             0\n",
       "keratin_type          0\n",
       "Diabetes_type         0\n",
       "Hemoglobin_level      0\n",
       "blood_group           0\n",
       "Immunity_level        0\n",
       "Affected_portion      0\n",
       "Breath_ratio        407\n",
       "Survive               0\n",
       "dtype: int64"
      ]
     },
     "execution_count": 10,
     "metadata": {},
     "output_type": "execute_result"
    }
   ],
   "source": [
    "df.isnull().sum()\n",
    "\n",
    "#There are null valyes in age,chol,thalachh and Breath ratio"
   ]
  },
  {
   "cell_type": "code",
   "execution_count": 11,
   "metadata": {},
   "outputs": [
    {
     "data": {
      "text/plain": [
       "Patient I.D.        0.000000\n",
       "Age                 8.557143\n",
       "Sex                 0.000000\n",
       "cp                  0.000000\n",
       "trtbps              0.000000\n",
       "chol                8.914286\n",
       "fbs                 0.000000\n",
       "restecg             0.000000\n",
       "thalachh            1.085714\n",
       "Addiction           0.000000\n",
       "keratin_type        0.000000\n",
       "Diabetes_type       0.000000\n",
       "Hemoglobin_level    0.000000\n",
       "blood_group         0.000000\n",
       "Immunity_level      0.000000\n",
       "Affected_portion    0.000000\n",
       "Breath_ratio        5.814286\n",
       "Survive             0.000000\n",
       "dtype: float64"
      ]
     },
     "execution_count": 11,
     "metadata": {},
     "output_type": "execute_result"
    }
   ],
   "source": [
    "df.isnull().sum()/len(df)*100\n",
    "\n",
    "#None of the null values are more than 80% , hence we shall impute the null values instead of dropping"
   ]
  },
  {
   "cell_type": "code",
   "execution_count": 12,
   "metadata": {},
   "outputs": [
    {
     "data": {
      "image/png": "[encoded data removed]",
      "text/plain": [
       "<Figure size 1080x1008 with 12 Axes>"
      ]
     },
     "metadata": {
      "needs_background": "light"
     },
     "output_type": "display_data"
    }
   ],
   "source": [
    "#Outlier check\n",
    "\n",
    "fig,ax = plt.subplots(nrows = 4,ncols = 3,figsize = (15,14))\n",
    "df_num = df.select_dtypes(np.number)\n",
    "for i,j in zip(df_num.columns,ax.flatten()):\n",
    "    sns.boxplot(df_num[i],ax = j)\n",
    "    \n",
    "    \n",
    "plt.show()"
   ]
  },
  {
   "cell_type": "code",
   "execution_count": 13,
   "metadata": {},
   "outputs": [],
   "source": [
    "#There are few outliers in Chol,Thalachh and Affected_portion\n",
    "\n",
    "#However, There are no significant outliers from those columns that we need to treat for the model"
   ]
  },
  {
   "cell_type": "code",
   "execution_count": 14,
   "metadata": {},
   "outputs": [
    {
     "data": {
      "text/plain": [
       "Survived       84.5\n",
       "Passed away    15.5\n",
       "Name: Survive, dtype: float64"
      ]
     },
     "execution_count": 14,
     "metadata": {},
     "output_type": "execute_result"
    }
   ],
   "source": [
    "#Imbalance check\n",
    "\n",
    "df['Survive'].value_counts()/len(df)*100\n",
    "#Data is highly imbalanced"
   ]
  },
  {
   "cell_type": "code",
   "execution_count": 15,
   "metadata": {},
   "outputs": [],
   "source": [
    "#dropping unique value columns\n",
    "\n",
    "#Since Patient ID is a columns which only unique values,\n",
    "\n",
    "#It does not add any value to our target columns, Hence we shall drop it from our dataframe\n",
    "\n",
    "df = df.drop('Patient I.D.',axis = 1)"
   ]
  },
  {
   "cell_type": "code",
   "execution_count": 16,
   "metadata": {},
   "outputs": [
    {
     "data": {
      "text/plain": [
       "Sex              0\n",
       "Addiction        0\n",
       "Diabetes_type    0\n",
       "blood_group      0\n",
       "Survive          0\n",
       "dtype: int64"
      ]
     },
     "execution_count": 16,
     "metadata": {},
     "output_type": "execute_result"
    }
   ],
   "source": [
    "#Null value imputation\n",
    "\n",
    "df_cat = df.select_dtypes('O')\n",
    "df_cat.isnull().sum()\n",
    "#No null values in categorical columns"
   ]
  },
  {
   "cell_type": "code",
   "execution_count": 17,
   "metadata": {},
   "outputs": [
    {
     "data": {
      "text/plain": [
       "Age                 0\n",
       "cp                  0\n",
       "trtbps              0\n",
       "chol                0\n",
       "fbs                 0\n",
       "restecg             0\n",
       "thalachh            0\n",
       "keratin_type        0\n",
       "Hemoglobin_level    0\n",
       "Immunity_level      0\n",
       "Affected_portion    0\n",
       "Breath_ratio        0\n",
       "dtype: int64"
      ]
     },
     "execution_count": 17,
     "metadata": {},
     "output_type": "execute_result"
    }
   ],
   "source": [
    "#Numerical null value imputation using median\n",
    "\n",
    "df_num = df.select_dtypes(np.number)\n",
    "from sklearn.impute import SimpleImputer\n",
    "\n",
    "sim = SimpleImputer(strategy = 'median').fit_transform(df_num.values)\n",
    "df_num = pd.DataFrame(sim,index = df_num.index,columns = df_num.columns)\n",
    "\n",
    "df_num.isnull().sum()"
   ]
  },
  {
   "cell_type": "code",
   "execution_count": 18,
   "metadata": {},
   "outputs": [
    {
     "data": {
      "text/html": [
       "<div>\n",
       "<style scoped>\n",
       "    .dataframe tbody tr th:only-of-type {\n",
       "        vertical-align: middle;\n",
       "    }\n",
       "\n",
       "    .dataframe tbody tr th {\n",
       "        vertical-align: top;\n",
       "    }\n",
       "\n",
       "    .dataframe thead th {\n",
       "        text-align: right;\n",
       "    }\n",
       "</style>\n",
       "<table border=\"1\" class=\"dataframe\">\n",
       "  <thead>\n",
       "    <tr style=\"text-align: right;\">\n",
       "      <th></th>\n",
       "      <th>Age</th>\n",
       "      <th>cp</th>\n",
       "      <th>trtbps</th>\n",
       "      <th>chol</th>\n",
       "      <th>fbs</th>\n",
       "      <th>restecg</th>\n",
       "      <th>thalachh</th>\n",
       "      <th>keratin_type</th>\n",
       "      <th>Hemoglobin_level</th>\n",
       "      <th>Immunity_level</th>\n",
       "      <th>Affected_portion</th>\n",
       "      <th>Breath_ratio</th>\n",
       "    </tr>\n",
       "  </thead>\n",
       "  <tbody>\n",
       "    <tr>\n",
       "      <th>count</th>\n",
       "      <td>7.000000e+03</td>\n",
       "      <td>7.000000e+03</td>\n",
       "      <td>7.000000e+03</td>\n",
       "      <td>7.000000e+03</td>\n",
       "      <td>7.000000e+03</td>\n",
       "      <td>7.000000e+03</td>\n",
       "      <td>7.000000e+03</td>\n",
       "      <td>7.000000e+03</td>\n",
       "      <td>7.000000e+03</td>\n",
       "      <td>7.000000e+03</td>\n",
       "      <td>7.000000e+03</td>\n",
       "      <td>7.000000e+03</td>\n",
       "    </tr>\n",
       "    <tr>\n",
       "      <th>mean</th>\n",
       "      <td>4.410377e-15</td>\n",
       "      <td>3.517504e-16</td>\n",
       "      <td>1.123466e-16</td>\n",
       "      <td>-3.656504e-15</td>\n",
       "      <td>6.298295e-16</td>\n",
       "      <td>8.593919e-17</td>\n",
       "      <td>-6.371411e-16</td>\n",
       "      <td>-1.313870e-16</td>\n",
       "      <td>-7.654195e-17</td>\n",
       "      <td>2.479921e-16</td>\n",
       "      <td>4.944458e-17</td>\n",
       "      <td>2.889435e-16</td>\n",
       "    </tr>\n",
       "    <tr>\n",
       "      <th>std</th>\n",
       "      <td>1.000071e+00</td>\n",
       "      <td>1.000071e+00</td>\n",
       "      <td>1.000071e+00</td>\n",
       "      <td>1.000071e+00</td>\n",
       "      <td>1.000071e+00</td>\n",
       "      <td>1.000071e+00</td>\n",
       "      <td>1.000071e+00</td>\n",
       "      <td>1.000071e+00</td>\n",
       "      <td>1.000071e+00</td>\n",
       "      <td>1.000071e+00</td>\n",
       "      <td>1.000071e+00</td>\n",
       "      <td>1.000071e+00</td>\n",
       "    </tr>\n",
       "    <tr>\n",
       "      <th>min</th>\n",
       "      <td>-1.796761e+00</td>\n",
       "      <td>-1.558847e+00</td>\n",
       "      <td>-2.505292e+00</td>\n",
       "      <td>-3.697921e+00</td>\n",
       "      <td>-1.445581e+00</td>\n",
       "      <td>-1.288468e+00</td>\n",
       "      <td>-3.494499e+00</td>\n",
       "      <td>-8.311657e-01</td>\n",
       "      <td>-1.539540e+00</td>\n",
       "      <td>-1.358401e+00</td>\n",
       "      <td>-3.544512e+00</td>\n",
       "      <td>-3.314604e+00</td>\n",
       "    </tr>\n",
       "    <tr>\n",
       "      <th>25%</th>\n",
       "      <td>-7.764996e-01</td>\n",
       "      <td>-6.165389e-01</td>\n",
       "      <td>-9.108924e-01</td>\n",
       "      <td>-7.259256e-01</td>\n",
       "      <td>-5.834300e-01</td>\n",
       "      <td>-1.288468e+00</td>\n",
       "      <td>-6.758865e-01</td>\n",
       "      <td>-8.311657e-01</td>\n",
       "      <td>-6.645174e-01</td>\n",
       "      <td>-4.629489e-01</td>\n",
       "      <td>-6.837648e-01</td>\n",
       "      <td>-6.591542e-01</td>\n",
       "    </tr>\n",
       "    <tr>\n",
       "      <th>50%</th>\n",
       "      <td>1.870802e-01</td>\n",
       "      <td>3.257694e-01</td>\n",
       "      <td>1.117138e-01</td>\n",
       "      <td>6.686522e-02</td>\n",
       "      <td>2.787211e-01</td>\n",
       "      <td>1.205737e-01</td>\n",
       "      <td>1.909781e-02</td>\n",
       "      <td>-8.311657e-01</td>\n",
       "      <td>2.105055e-01</td>\n",
       "      <td>4.325035e-01</td>\n",
       "      <td>6.254561e-03</td>\n",
       "      <td>-4.799322e-02</td>\n",
       "    </tr>\n",
       "    <tr>\n",
       "      <th>75%</th>\n",
       "      <td>9.239354e-01</td>\n",
       "      <td>1.268078e+00</td>\n",
       "      <td>8.321344e-01</td>\n",
       "      <td>6.226194e-01</td>\n",
       "      <td>1.140872e+00</td>\n",
       "      <td>1.205737e-01</td>\n",
       "      <td>6.761141e-01</td>\n",
       "      <td>6.660448e-01</td>\n",
       "      <td>1.085528e+00</td>\n",
       "      <td>1.327956e+00</td>\n",
       "      <td>6.930944e-01</td>\n",
       "      <td>6.898286e-01</td>\n",
       "    </tr>\n",
       "    <tr>\n",
       "      <th>max</th>\n",
       "      <td>1.717472e+00</td>\n",
       "      <td>1.268078e+00</td>\n",
       "      <td>2.640427e+00</td>\n",
       "      <td>3.581236e+00</td>\n",
       "      <td>1.140872e+00</td>\n",
       "      <td>1.529615e+00</td>\n",
       "      <td>3.974826e+00</td>\n",
       "      <td>2.163255e+00</td>\n",
       "      <td>1.523040e+00</td>\n",
       "      <td>1.327956e+00</td>\n",
       "      <td>3.860242e+00</td>\n",
       "      <td>4.038813e+00</td>\n",
       "    </tr>\n",
       "  </tbody>\n",
       "</table>\n",
       "</div>"
      ],
      "text/plain": [
       "                Age            cp        trtbps          chol           fbs  \\\n",
       "count  7.000000e+03  7.000000e+03  7.000000e+03  7.000000e+03  7.000000e+03   \n",
       "mean   4.410377e-15  3.517504e-16  1.123466e-16 -3.656504e-15  6.298295e-16   \n",
       "std    1.000071e+00  1.000071e+00  1.000071e+00  1.000071e+00  1.000071e+00   \n",
       "min   -1.796761e+00 -1.558847e+00 -2.505292e+00 -3.697921e+00 -1.445581e+00   \n",
       "25%   -7.764996e-01 -6.165389e-01 -9.108924e-01 -7.259256e-01 -5.834300e-01   \n",
       "50%    1.870802e-01  3.257694e-01  1.117138e-01  6.686522e-02  2.787211e-01   \n",
       "75%    9.239354e-01  1.268078e+00  8.321344e-01  6.226194e-01  1.140872e+00   \n",
       "max    1.717472e+00  1.268078e+00  2.640427e+00  3.581236e+00  1.140872e+00   \n",
       "\n",
       "            restecg      thalachh  keratin_type  Hemoglobin_level  \\\n",
       "count  7.000000e+03  7.000000e+03  7.000000e+03      7.000000e+03   \n",
       "mean   8.593919e-17 -6.371411e-16 -1.313870e-16     -7.654195e-17   \n",
       "std    1.000071e+00  1.000071e+00  1.000071e+00      1.000071e+00   \n",
       "min   -1.288468e+00 -3.494499e+00 -8.311657e-01     -1.539540e+00   \n",
       "25%   -1.288468e+00 -6.758865e-01 -8.311657e-01     -6.645174e-01   \n",
       "50%    1.205737e-01  1.909781e-02 -8.311657e-01      2.105055e-01   \n",
       "75%    1.205737e-01  6.761141e-01  6.660448e-01      1.085528e+00   \n",
       "max    1.529615e+00  3.974826e+00  2.163255e+00      1.523040e+00   \n",
       "\n",
       "       Immunity_level  Affected_portion  Breath_ratio  \n",
       "count    7.000000e+03      7.000000e+03  7.000000e+03  \n",
       "mean     2.479921e-16      4.944458e-17  2.889435e-16  \n",
       "std      1.000071e+00      1.000071e+00  1.000071e+00  \n",
       "min     -1.358401e+00     -3.544512e+00 -3.314604e+00  \n",
       "25%     -4.629489e-01     -6.837648e-01 -6.591542e-01  \n",
       "50%      4.325035e-01      6.254561e-03 -4.799322e-02  \n",
       "75%      1.327956e+00      6.930944e-01  6.898286e-01  \n",
       "max      1.327956e+00      3.860242e+00  4.038813e+00  "
      ]
     },
     "execution_count": 18,
     "metadata": {},
     "output_type": "execute_result"
    }
   ],
   "source": [
    "#Scaling\n",
    "\n",
    "from sklearn.preprocessing import StandardScaler\n",
    "\n",
    "ss = StandardScaler().fit_transform(df_num.values)\n",
    "df_num = pd.DataFrame(ss,index = df_num.index,columns = df_num.columns)\n",
    "df_num.describe()"
   ]
  },
  {
   "cell_type": "code",
   "execution_count": 19,
   "metadata": {},
   "outputs": [],
   "source": [
    "#Clean df \n",
    "\n",
    "df  = pd.concat([df_num,df_cat],axis = 1)"
   ]
  },
  {
   "cell_type": "code",
   "execution_count": 20,
   "metadata": {},
   "outputs": [
    {
     "data": {
      "text/plain": [
       "Age                 0\n",
       "cp                  0\n",
       "trtbps              0\n",
       "chol                0\n",
       "fbs                 0\n",
       "restecg             0\n",
       "thalachh            0\n",
       "keratin_type        0\n",
       "Hemoglobin_level    0\n",
       "Immunity_level      0\n",
       "Affected_portion    0\n",
       "Breath_ratio        0\n",
       "Sex                 0\n",
       "Addiction           0\n",
       "Diabetes_type       0\n",
       "blood_group         0\n",
       "Survive             0\n",
       "dtype: int64"
      ]
     },
     "execution_count": 20,
     "metadata": {},
     "output_type": "execute_result"
    }
   ],
   "source": [
    "df.isnull().sum()"
   ]
  },
  {
   "cell_type": "code",
   "execution_count": 21,
   "metadata": {},
   "outputs": [
    {
     "data": {
      "text/plain": [
       "<matplotlib.axes._subplots.AxesSubplot at 0x7fd00b68ae48>"
      ]
     },
     "execution_count": 21,
     "metadata": {},
     "output_type": "execute_result"
    },
    {
     "data": {
      "image/png": "[encoded data removed]",
      "text/plain": [
       "<Figure size 1080x576 with 2 Axes>"
      ]
     },
     "metadata": {
      "needs_background": "light"
     },
     "output_type": "display_data"
    }
   ],
   "source": [
    "#Changing target to int dtype\n",
    "\n",
    "df['Survive'] = pd.get_dummies(df['Survive'],drop_first = True)\n",
    "\n",
    "plt.figure(figsize = (15,8))\n",
    "\n",
    "sns.heatmap(df.corr(),annot = True)"
   ]
  },
  {
   "cell_type": "code",
   "execution_count": 22,
   "metadata": {},
   "outputs": [],
   "source": [
    "# We can see that none of the independant variables have a high corelation with the target\n",
    "\n",
    "#Out of all features, Fbs has the highest positive correlation with the target\n",
    "\n",
    "#Features like Age,cp,keratin_type,immunity level,rest_ecg have a slight positive correlation with the target\n",
    "\n",
    "# Breath_ratio,Affected_portion,chol,trtbps,Hemoglobin level have a negative correlation with the target"
   ]
  },
  {
   "cell_type": "code",
   "execution_count": 23,
   "metadata": {},
   "outputs": [],
   "source": [
    "#From the heatmap it is evident that there is no multicollinearity within independent features, \n",
    "\n",
    "#Hence it is not required to drop any features as of now."
   ]
  },
  {
   "cell_type": "code",
   "execution_count": 24,
   "metadata": {},
   "outputs": [],
   "source": [
    "#Train-Test split\n",
    "\n",
    "from sklearn.model_selection import train_test_split\n",
    "\n",
    "x = df.drop('Survive',axis = 1)\n",
    "\n",
    "x = pd.get_dummies(x,drop_first = True)\n",
    "\n",
    "y = df['Survive']\n",
    "\n",
    "x_train,x_test,y_train,y_test = train_test_split(x,y,test_size = 0.3)\n"
   ]
  },
  {
   "cell_type": "code",
   "execution_count": 25,
   "metadata": {},
   "outputs": [
    {
     "data": {
      "text/plain": [
       "Ttest_indResult(statistic=-1.1170059562602204, pvalue=0.2640301270150983)"
      ]
     },
     "execution_count": 25,
     "metadata": {},
     "output_type": "execute_result"
    }
   ],
   "source": [
    "from scipy.stats import ttest_ind\n",
    "\n",
    "#h0: The train and test data represent the overall data\n",
    "#h1: The train and test data do not represent the overall data\n",
    "\n",
    "ttest_ind(y_train,y_test)"
   ]
  },
  {
   "cell_type": "code",
   "execution_count": 26,
   "metadata": {},
   "outputs": [
    {
     "data": {
      "text/plain": [
       "Ttest_indResult(statistic=array([ 0.43576409, -0.58978584, -1.36598969, -0.47597265,  0.09218215,\n",
       "        0.26824281,  0.8236849 ,  0.07028049,  1.34193636,  1.60456888,\n",
       "        0.63694632, -1.6877659 ,  0.03977602,  1.20147914,  1.62497793,\n",
       "        0.4551786 ,  1.05063365, -0.49290678, -0.74565254,  0.05967555,\n",
       "        0.23861603, -0.6149932 , -0.20715148,  0.81600131,  0.86201808,\n",
       "       -0.40313563,  0.55645491, -0.9978745 ]), pvalue=array([0.66302134, 0.55535328, 0.17198609, 0.63410872, 0.92655596,\n",
       "       0.78852033, 0.41014669, 0.94397242, 0.17966017, 0.10863384,\n",
       "       0.52418065, 0.09150074, 0.96827283, 0.22960605, 0.10421229,\n",
       "       0.64899488, 0.29346316, 0.62209392, 0.45590238, 0.95241575,\n",
       "       0.81141032, 0.53857921, 0.83589758, 0.41452716, 0.3887071 ,\n",
       "       0.68686076, 0.5779177 , 0.31837472]))"
      ]
     },
     "execution_count": 26,
     "metadata": {},
     "output_type": "execute_result"
    }
   ],
   "source": [
    "ttest_ind(x_train,x_test)"
   ]
  },
  {
   "cell_type": "code",
   "execution_count": 27,
   "metadata": {},
   "outputs": [],
   "source": [
    "# We can see that p value is greater than alpha(0.5), hence we accept H0\n",
    "\n",
    "#The train and test data represents the overall data well"
   ]
  },
  {
   "cell_type": "code",
   "execution_count": 28,
   "metadata": {},
   "outputs": [],
   "source": [
    "from sklearn.tree import DecisionTreeClassifier\n",
    "from sklearn.metrics import accuracy_score\n",
    "\n",
    "\n",
    "x = df.drop('Survive',axis = 1)\n",
    "\n",
    "x = pd.get_dummies(x,drop_first = True)\n",
    "\n",
    "y = df['Survive']\n",
    "dtc = DecisionTreeClassifier(random_state = 1)\n",
    "\n",
    "model = dtc.fit(x_train,y_train)\n",
    "\n",
    "# I've selected Decision tree classifer as the algorithm for my base model\n",
    "\n",
    "# SInce the target columns is categorical in nature, I've selected a classification algorithm\n",
    "\n",
    "# Since Decision Tree classifier is one of the best algorithms to use for decision-solving problems like ours,\n",
    "\n",
    "#I've chosen this for my base model"
   ]
  },
  {
   "cell_type": "code",
   "execution_count": 29,
   "metadata": {},
   "outputs": [
    {
     "name": "stdout",
     "output_type": "stream",
     "text": [
      "The train accuracy is 1.0\n",
      "The test accuracy is 0.7314285714285714\n"
     ]
    }
   ],
   "source": [
    "print('The train accuracy is',model.score(x_train,y_train))\n",
    "print('The test accuracy is',model.score(x_test,y_test))\n",
    "\n",
    "# The overall accurcy for training data is 100% and test is 0.73\n",
    "\n",
    "# The accuracy and model is not good since there is severe overfitting in our model\n",
    "\n",
    "# A model can never have 100% accuracy in either train or test.\n",
    "\n",
    "# Hence, we shall regularize the data (or) select significant features using Recursive feature elmination"
   ]
  },
  {
   "cell_type": "code",
   "execution_count": 30,
   "metadata": {},
   "outputs": [
    {
     "name": "stdout",
     "output_type": "stream",
     "text": [
      "              precision    recall  f1-score   support\n",
      "\n",
      "           0       0.17      0.21      0.19       310\n",
      "           1       0.86      0.82      0.84      1790\n",
      "\n",
      "    accuracy                           0.73      2100\n",
      "   macro avg       0.51      0.52      0.51      2100\n",
      "weighted avg       0.76      0.73      0.74      2100\n",
      "\n"
     ]
    }
   ],
   "source": [
    "y_pred = model.predict(x_test)\n",
    "\n",
    "from sklearn.metrics import classification_report\n",
    "\n",
    "print(classification_report(y_test,y_pred))\n",
    "\n"
   ]
  },
  {
   "cell_type": "code",
   "execution_count": 31,
   "metadata": {},
   "outputs": [],
   "source": [
    "#Precision basically tells you how many are correctly classified within the class\n",
    "\n",
    "#We can see that there is very less correctly classified for Not suvived patients and high for Survived patients\n",
    "\n",
    "\n",
    "#Recall tells you how many of this clas we have found over the whole number of elements in the indivdual classes\n",
    "\n",
    "# The recall score is high for predicting Survival of patients and very low for non-survival\n",
    "\n",
    "\n",
    "#F1 score is the harmonic mean of Precision and recall\n",
    "\n",
    "#The model is not able to predict the minorty class well"
   ]
  },
  {
   "cell_type": "code",
   "execution_count": null,
   "metadata": {},
   "outputs": [],
   "source": []
  },
  {
   "cell_type": "code",
   "execution_count": 37,
   "metadata": {},
   "outputs": [],
   "source": [
    "from sklearn.feature_selection import RFE\n",
    "dtc = DecisionTreeClassifier(random_state = 1)\n",
    "rfe_model = RFE(estimator = dtc,n_features_to_select = 10)\n",
    "\n",
    "rfe_model = rfe_model.fit(x_train,y_train)"
   ]
  },
  {
   "cell_type": "code",
   "execution_count": 38,
   "metadata": {},
   "outputs": [
    {
     "data": {
      "text/plain": [
       "['Age',\n",
       " 'cp',\n",
       " 'trtbps',\n",
       " 'chol',\n",
       " 'fbs',\n",
       " 'thalachh',\n",
       " 'Hemoglobin_level',\n",
       " 'Immunity_level',\n",
       " 'Affected_portion',\n",
       " 'Breath_ratio']"
      ]
     },
     "execution_count": 38,
     "metadata": {},
     "output_type": "execute_result"
    }
   ],
   "source": [
    "df_rfe = pd.DataFrame()\n",
    "df_rfe['features'] = x.columns\n",
    "df_rfe['ranking'] = rfe_model.ranking_\n",
    "\n",
    "top = df_rfe[df_rfe['ranking']==1]\n",
    "\n",
    "top = top.features.to_list()\n",
    "top\n",
    "\n",
    "#I have converted the features with ranking 1 from RFE as a list shown below in the output"
   ]
  },
  {
   "cell_type": "code",
   "execution_count": 40,
   "metadata": {},
   "outputs": [],
   "source": [
    "#Selecting only the features selected from RFE\n",
    "\n",
    "x_top = x[top]\n",
    "\n",
    "x_train,x_test,y_train,y_test = train_test_split(x_top,y,test_size = 0.3)\n",
    "\n",
    "model_top = dtc.fit(x_train,y_train)\n"
   ]
  },
  {
   "cell_type": "code",
   "execution_count": 41,
   "metadata": {},
   "outputs": [
    {
     "name": "stdout",
     "output_type": "stream",
     "text": [
      "The train accuracy is 1.0\n",
      "The test accuracy is 0.7080952380952381\n"
     ]
    }
   ],
   "source": [
    "print('The train accuracy is',model_top.score(x_train,y_train))\n",
    "print('The test accuracy is',model_top.score(x_test,y_test))\n",
    "\n",
    "\n",
    "\n",
    "#Still overfitting is present as the training accuracy is at 100% similiar to the base model\n",
    "\n",
    "# We shall regularize the model using Grid Search CV\n",
    "\n",
    "\n"
   ]
  },
  {
   "cell_type": "code",
   "execution_count": 42,
   "metadata": {},
   "outputs": [
    {
     "data": {
      "text/plain": [
       "GridSearchCV(cv=5, estimator=DecisionTreeClassifier(random_state=1),\n",
       "             param_grid=[{'criterion': ['gini', 'entropy'],\n",
       "                          'max_depth': range(2, 10),\n",
       "                          'min_samples_split': range(2, 10)}])"
      ]
     },
     "execution_count": 42,
     "metadata": {},
     "output_type": "execute_result"
    }
   ],
   "source": [
    "from sklearn.model_selection import GridSearchCV\n",
    "tuned_params = [{'criterion':['gini','entropy'],'max_depth':range(2,10),'min_samples_split': range(2,10)}]\n",
    "grid = GridSearchCV(estimator = dtc,param_grid = tuned_params,cv = 5)\n",
    "\n",
    "grid.fit(x_train,y_train)"
   ]
  },
  {
   "cell_type": "code",
   "execution_count": 43,
   "metadata": {},
   "outputs": [
    {
     "data": {
      "text/plain": [
       "{'criterion': 'entropy', 'max_depth': 2, 'min_samples_split': 2}"
      ]
     },
     "execution_count": 43,
     "metadata": {},
     "output_type": "execute_result"
    }
   ],
   "source": [
    "grid.best_params_\n",
    "\n",
    "#Below are the best parameters from Grid Search"
   ]
  },
  {
   "cell_type": "code",
   "execution_count": 45,
   "metadata": {},
   "outputs": [],
   "source": [
    "dtc_tuned = DecisionTreeClassifier(criterion = 'entropy',max_depth = 2,min_samples_split = 2)\n",
    "\n",
    "model_final = dtc_tuned.fit(x_train,y_train)"
   ]
  },
  {
   "cell_type": "code",
   "execution_count": 46,
   "metadata": {},
   "outputs": [
    {
     "name": "stdout",
     "output_type": "stream",
     "text": [
      "The train accuracy is 0.8483673469387755\n",
      "The test accuracy is 0.8371428571428572\n"
     ]
    }
   ],
   "source": [
    "print('The train accuracy is',model_final.score(x_train,y_train))\n",
    "print('The test accuracy is',model_final.score(x_test,y_test))"
   ]
  },
  {
   "cell_type": "code",
   "execution_count": null,
   "metadata": {},
   "outputs": [],
   "source": [
    "# Our final model is very good with no overfitting!\n"
   ]
  },
  {
   "cell_type": "code",
   "execution_count": null,
   "metadata": {},
   "outputs": [],
   "source": [
    "# Changes made from base model => \n",
    "\n",
    "# Our first base model had severe overfitting\n",
    "\n",
    "# We first tried using Recusrive feature elimination and selected 10 features out of all.\n",
    "\n",
    "# The second model was built using only those 10 selected features as independent variables\n",
    "\n",
    "# We still found severe overfitting in the second model\n",
    "\n",
    "# Now we tried to regularize the model using Grid Search CV with 5 cross fold validation\n",
    "\n",
    "# After fitting the best parameters obtained from the grid search,\n",
    "\n",
    "# Our final model has a train accuracy of 84% and test accuracy of 83%\n",
    "\n",
    "# Both train and test accuracy are almost equal which means there is no overfitting in our data!\n",
    "\n",
    "# We have now successfully imporoved our model with good accuracy and no overfitting or underfitting!"
   ]
  },
  {
   "cell_type": "code",
   "execution_count": 53,
   "metadata": {},
   "outputs": [
    {
     "data": {
      "image/png": "[encoded data removed]",
      "text/plain": [
       "<Figure size 432x288 with 1 Axes>"
      ]
     },
     "metadata": {
      "needs_background": "light"
     },
     "output_type": "display_data"
    }
   ],
   "source": [
    "from sklearn.metrics import roc_auc_score,roc_curve\n",
    "\n",
    "y_pred = model_final.predict(x_test)\n",
    "\n",
    "fpr,tpr,th = roc_curve(y_test,y_pred)\n",
    "\n",
    "plt.plot(fpr,tpr,label = 'Decision Tree classifier')\n",
    "\n",
    "plt.plot([0,1],[0,1],'r--')\n",
    "plt.xlabel('FPR')\n",
    "plt.ylabel('TPR')\n",
    "plt.title('ROC CURVE')\n",
    "plt.show()"
   ]
  },
  {
   "cell_type": "code",
   "execution_count": 58,
   "metadata": {},
   "outputs": [
    {
     "data": {
      "text/plain": [
       "0.5"
      ]
     },
     "execution_count": 58,
     "metadata": {},
     "output_type": "execute_result"
    }
   ],
   "source": [
    "roc_auc_score(y_test,y_pred)"
   ]
  },
  {
   "cell_type": "code",
   "execution_count": null,
   "metadata": {},
   "outputs": [],
   "source": [
    "#The ROC AUC score is 0.5 which is less than an ideal model, \n",
    "\n",
    "# however from the classification report,\n",
    "\n",
    "# we could see that our model has predicted one class very well with more than 80% accuracy\n",
    "\n",
    "\n"
   ]
  },
  {
   "cell_type": "code",
   "execution_count": 50,
   "metadata": {},
   "outputs": [
    {
     "name": "stdout",
     "output_type": "stream",
     "text": [
      "              precision    recall  f1-score   support\n",
      "\n",
      "           0       0.00      0.00      0.00       342\n",
      "           1       0.84      1.00      0.91      1758\n",
      "\n",
      "    accuracy                           0.84      2100\n",
      "   macro avg       0.42      0.50      0.46      2100\n",
      "weighted avg       0.70      0.84      0.76      2100\n",
      "\n"
     ]
    },
    {
     "name": "stderr",
     "output_type": "stream",
     "text": [
      "/home/deploy/anaconda3/lib/python3.7/site-packages/sklearn/metrics/_classification.py:1221: UndefinedMetricWarning: Precision and F-score are ill-defined and being set to 0.0 in labels with no predicted samples. Use `zero_division` parameter to control this behavior.\n",
      "  _warn_prf(average, modifier, msg_start, len(result))\n"
     ]
    }
   ],
   "source": [
    "print(classification_report(y_test,y_pred))\n",
    "\n",
    "#The survived patients are predicted really well but the non survived pateints are not predicted properly in our model\n",
    "\n"
   ]
  },
  {
   "cell_type": "code",
   "execution_count": 52,
   "metadata": {},
   "outputs": [
    {
     "data": {
      "text/plain": [
       "1    84.5\n",
       "0    15.5\n",
       "Name: Survive, dtype: float64"
      ]
     },
     "execution_count": 52,
     "metadata": {},
     "output_type": "execute_result"
    }
   ],
   "source": [
    "#The reason for this issue is the imbalance in our data\n",
    "\n",
    "df['Survive'].value_counts()/len(df)*100\n"
   ]
  },
  {
   "cell_type": "code",
   "execution_count": null,
   "metadata": {},
   "outputs": [],
   "source": [
    "\n",
    "# We can see very high imbalance in the target column which is why we are not able to predict the minoity classes well\n",
    "\n",
    "# Using our final model we can predict the patients who are more likely to survive with good precision and accuracy\n",
    "\n",
    "# The features which contribute more to the Survival of the patients are =>\n",
    "\n",
    "# Age,cp,trtbps,chol,fbs,thalachh,Hemoglobin_level,immunity level, Affected portion and Breath Ratio\n",
    "\n",
    "# Scope for improvement =>\n",
    "\n",
    "# Imbalance treatment on the data can help provide a better prediction and accuracy for the minoriy class(non-survied)\n",
    "\n"
   ]
  },
  {
   "cell_type": "code",
   "execution_count": null,
   "metadata": {},
   "outputs": [],
   "source": []
  }
 ],
 "metadata": {
  "kernelspec": {
   "display_name": "Python 3 (ipykernel)",
   "language": "python",
   "name": "python3"
  },
  "language_info": {
   "codemirror_mode": {
    "name": "ipython",
    "version": 3
   },
   "file_extension": ".py",
   "mimetype": "text/x-python",
   "name": "python",
   "nbconvert_exporter": "python",
   "pygments_lexer": "ipython3",
   "version": "3.9.7"
  }
 },
 "nbformat": 4,
 "nbformat_minor": 4
}
